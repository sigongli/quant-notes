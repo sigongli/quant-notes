{
 "cells": [
  {
   "cell_type": "code",
   "execution_count": 1,
   "metadata": {},
   "outputs": [],
   "source": [
    "# 模型训练\n",
    "import numpy as np\n",
    "import pandas as pd\n",
    "import os\n",
    "from tqdm import tqdm\n",
    "import matplotlib.pyplot as plt\n",
    "import warnings\n",
    "warnings.filterwarnings(\"ignore\")\n",
    "\n",
    "%matplotlib inline"
   ]
  },
  {
   "cell_type": "code",
   "execution_count": 2,
   "metadata": {},
   "outputs": [],
   "source": [
    "base_path = 'E:\\stock'\n",
    "company_info = pd.read_csv(os.path.join(base_path, 'company_info.csv'))"
   ]
  },
  {
   "cell_type": "code",
   "execution_count": 3,
   "metadata": {},
   "outputs": [
    {
     "data": {
      "text/plain": [
       "array(['银行', '全国地产', '互联网', '环境保护', '区域地产', '酒店餐饮', '运输设备', '综合类', '建筑工程',\n",
       "       '玻璃', '家用电器', '文教休闲', '其他商业', '元器件', 'IT设备', '其他建材', '汽车服务',\n",
       "       '火力发电', '医药商业', '汽车配件', '广告包装', '轻工机械', '新型电力', '多元金融', '饲料',\n",
       "       '电气设备', '房产服务', '石油加工', '铅锌', '农业综合', '批发业', '通信设备', '旅游景点', '港口',\n",
       "       '机场', '石油贸易', '空运', '医疗保健', '商贸代理', '化学制药', '影视音像', '工程机械', '纺织',\n",
       "       '证券', '化纤', '水泥', '生物制药', '专用机械', '供气供热', '农药化肥', '机床制造', '百货',\n",
       "       '中成药', '路桥', '造纸', '食品', '黄金', '化工原料', '矿物制品', '水运', '日用化工',\n",
       "       '机械基件', '汽车整车', '煤炭开采', '软件服务', '铁路', '染料涂料', '白酒', '林业', '水务',\n",
       "       '水力发电', '旅游服务', '铝', '保险', '园区开发', '小金属', '铜', '普钢', '航空', '特种钢',\n",
       "       '种植业', '出版业', '焦炭加工', '啤酒', '公路', '超市连锁', '钢加工', '渔业', '农用机械',\n",
       "       '软饮料', '化工机械', '塑料', '红黄酒', '橡胶', '家居用品', '摩托车', '仓储物流', '电器仪表',\n",
       "       '服饰', '纺织机械', '电器连锁', '装修装饰', '半导体', '电信运营', '石油开采', '乳制品', '商品城',\n",
       "       '公共交通', '陶瓷', '船舶', nan], dtype=object)"
      ]
     },
     "execution_count": 3,
     "metadata": {},
     "output_type": "execute_result"
    }
   ],
   "source": [
    "company_info['industry'].unique()"
   ]
  },
  {
   "cell_type": "code",
   "execution_count": 4,
   "metadata": {},
   "outputs": [],
   "source": [
    "need_industry = ['互联网', '环境保护', '运输设备', '综合类',\n",
    "       '家用电器',  '元器件', 'IT设备', '其他建材', '汽车服务',\n",
    "       '医药商业', '汽车配件', '轻工机械', '新型电力', '多元金融', \n",
    "       '电气设备', '铅锌', '农业综合', '通信设备', \n",
    "       '机场', '空运', '医疗保健', '化学制药', '工程机械',\n",
    "       '证券', '水泥', '生物制药', '专用机械', '供气供热', '机床制造', \n",
    "       '中成药', '路桥', '造纸', '食品', '黄金', '化工原料', '矿物制品', '水运', '日用化工',\n",
    "       '汽车整车', '软件服务', '白酒', '铝', '小金属', '铜', '航空', '啤酒', '公路', '渔业', '农用机械',\n",
    "        '化工机械', '红黄酒',  '家居用品', '摩托车', '电器仪表',\n",
    "       '电器连锁', '半导体', '电信运营', '乳制品', '商品城', '公共交通', '船舶']\n",
    "company_info = company_info[company_info['industry'].isin(need_industry)]"
   ]
  },
  {
   "cell_type": "code",
   "execution_count": 5,
   "metadata": {},
   "outputs": [],
   "source": [
    "ts_code_set = set(company_info['ts_code'].values)"
   ]
  },
  {
   "cell_type": "code",
   "execution_count": 6,
   "metadata": {},
   "outputs": [
    {
     "data": {
      "text/html": [
       "<div>\n",
       "<style scoped>\n",
       "    .dataframe tbody tr th:only-of-type {\n",
       "        vertical-align: middle;\n",
       "    }\n",
       "\n",
       "    .dataframe tbody tr th {\n",
       "        vertical-align: top;\n",
       "    }\n",
       "\n",
       "    .dataframe thead th {\n",
       "        text-align: right;\n",
       "    }\n",
       "</style>\n",
       "<table border=\"1\" class=\"dataframe\">\n",
       "  <thead>\n",
       "    <tr style=\"text-align: right;\">\n",
       "      <th></th>\n",
       "      <th>index</th>\n",
       "      <th>ts_code</th>\n",
       "      <th>symbol</th>\n",
       "      <th>name</th>\n",
       "      <th>area</th>\n",
       "      <th>industry</th>\n",
       "      <th>fullname</th>\n",
       "      <th>market</th>\n",
       "      <th>exchange</th>\n",
       "      <th>list_date</th>\n",
       "      <th>is_hs</th>\n",
       "    </tr>\n",
       "  </thead>\n",
       "  <tbody>\n",
       "    <tr>\n",
       "      <th>2</th>\n",
       "      <td>2</td>\n",
       "      <td>000004.SZ</td>\n",
       "      <td>4</td>\n",
       "      <td>国华网安</td>\n",
       "      <td>深圳</td>\n",
       "      <td>互联网</td>\n",
       "      <td>深圳国华网安科技股份有限公司</td>\n",
       "      <td>主板</td>\n",
       "      <td>SZSE</td>\n",
       "      <td>19910114</td>\n",
       "      <td>N</td>\n",
       "    </tr>\n",
       "    <tr>\n",
       "      <th>3</th>\n",
       "      <td>3</td>\n",
       "      <td>000005.SZ</td>\n",
       "      <td>5</td>\n",
       "      <td>世纪星源</td>\n",
       "      <td>深圳</td>\n",
       "      <td>环境保护</td>\n",
       "      <td>深圳世纪星源股份有限公司</td>\n",
       "      <td>主板</td>\n",
       "      <td>SZSE</td>\n",
       "      <td>19901210</td>\n",
       "      <td>N</td>\n",
       "    </tr>\n",
       "    <tr>\n",
       "      <th>6</th>\n",
       "      <td>6</td>\n",
       "      <td>000008.SZ</td>\n",
       "      <td>8</td>\n",
       "      <td>神州高铁</td>\n",
       "      <td>北京</td>\n",
       "      <td>运输设备</td>\n",
       "      <td>神州高铁技术股份有限公司</td>\n",
       "      <td>主板</td>\n",
       "      <td>SZSE</td>\n",
       "      <td>19920507</td>\n",
       "      <td>S</td>\n",
       "    </tr>\n",
       "    <tr>\n",
       "      <th>7</th>\n",
       "      <td>7</td>\n",
       "      <td>000009.SZ</td>\n",
       "      <td>9</td>\n",
       "      <td>中国宝安</td>\n",
       "      <td>深圳</td>\n",
       "      <td>综合类</td>\n",
       "      <td>中国宝安集团股份有限公司</td>\n",
       "      <td>主板</td>\n",
       "      <td>SZSE</td>\n",
       "      <td>19910625</td>\n",
       "      <td>S</td>\n",
       "    </tr>\n",
       "    <tr>\n",
       "      <th>12</th>\n",
       "      <td>12</td>\n",
       "      <td>000016.SZ</td>\n",
       "      <td>16</td>\n",
       "      <td>深康佳A</td>\n",
       "      <td>深圳</td>\n",
       "      <td>家用电器</td>\n",
       "      <td>康佳集团股份有限公司</td>\n",
       "      <td>主板</td>\n",
       "      <td>SZSE</td>\n",
       "      <td>19920327</td>\n",
       "      <td>S</td>\n",
       "    </tr>\n",
       "    <tr>\n",
       "      <th>...</th>\n",
       "      <td>...</td>\n",
       "      <td>...</td>\n",
       "      <td>...</td>\n",
       "      <td>...</td>\n",
       "      <td>...</td>\n",
       "      <td>...</td>\n",
       "      <td>...</td>\n",
       "      <td>...</td>\n",
       "      <td>...</td>\n",
       "      <td>...</td>\n",
       "      <td>...</td>\n",
       "    </tr>\n",
       "    <tr>\n",
       "      <th>3014</th>\n",
       "      <td>3903</td>\n",
       "      <td>605369.SH</td>\n",
       "      <td>605369</td>\n",
       "      <td>拱东医疗</td>\n",
       "      <td>浙江</td>\n",
       "      <td>医疗保健</td>\n",
       "      <td>浙江拱东医疗器械股份有限公司</td>\n",
       "      <td>主板</td>\n",
       "      <td>SSE</td>\n",
       "      <td>20200916</td>\n",
       "      <td>N</td>\n",
       "    </tr>\n",
       "    <tr>\n",
       "      <th>3015</th>\n",
       "      <td>3904</td>\n",
       "      <td>605376.SH</td>\n",
       "      <td>605376</td>\n",
       "      <td>博迁新材</td>\n",
       "      <td>江苏</td>\n",
       "      <td>小金属</td>\n",
       "      <td>江苏博迁新材料股份有限公司</td>\n",
       "      <td>主板</td>\n",
       "      <td>SSE</td>\n",
       "      <td>20201208</td>\n",
       "      <td>N</td>\n",
       "    </tr>\n",
       "    <tr>\n",
       "      <th>3016</th>\n",
       "      <td>3905</td>\n",
       "      <td>605377.SH</td>\n",
       "      <td>605377</td>\n",
       "      <td>华旺科技</td>\n",
       "      <td>浙江</td>\n",
       "      <td>造纸</td>\n",
       "      <td>杭州华旺新材料科技股份有限公司</td>\n",
       "      <td>主板</td>\n",
       "      <td>SSE</td>\n",
       "      <td>20201228</td>\n",
       "      <td>N</td>\n",
       "    </tr>\n",
       "    <tr>\n",
       "      <th>3018</th>\n",
       "      <td>3907</td>\n",
       "      <td>605399.SH</td>\n",
       "      <td>605399</td>\n",
       "      <td>晨光新材</td>\n",
       "      <td>江西</td>\n",
       "      <td>化工原料</td>\n",
       "      <td>江西晨光新材料股份有限公司</td>\n",
       "      <td>主板</td>\n",
       "      <td>SSE</td>\n",
       "      <td>20200804</td>\n",
       "      <td>N</td>\n",
       "    </tr>\n",
       "    <tr>\n",
       "      <th>3019</th>\n",
       "      <td>3908</td>\n",
       "      <td>605500.SH</td>\n",
       "      <td>605500</td>\n",
       "      <td>森林包装</td>\n",
       "      <td>浙江</td>\n",
       "      <td>造纸</td>\n",
       "      <td>森林包装集团股份有限公司</td>\n",
       "      <td>主板</td>\n",
       "      <td>SSE</td>\n",
       "      <td>20201222</td>\n",
       "      <td>N</td>\n",
       "    </tr>\n",
       "  </tbody>\n",
       "</table>\n",
       "<p>1927 rows × 11 columns</p>\n",
       "</div>"
      ],
      "text/plain": [
       "      index    ts_code  symbol  name area industry         fullname market  \\\n",
       "2         2  000004.SZ       4  国华网安   深圳      互联网   深圳国华网安科技股份有限公司     主板   \n",
       "3         3  000005.SZ       5  世纪星源   深圳     环境保护     深圳世纪星源股份有限公司     主板   \n",
       "6         6  000008.SZ       8  神州高铁   北京     运输设备     神州高铁技术股份有限公司     主板   \n",
       "7         7  000009.SZ       9  中国宝安   深圳      综合类     中国宝安集团股份有限公司     主板   \n",
       "12       12  000016.SZ      16  深康佳A   深圳     家用电器       康佳集团股份有限公司     主板   \n",
       "...     ...        ...     ...   ...  ...      ...              ...    ...   \n",
       "3014   3903  605369.SH  605369  拱东医疗   浙江     医疗保健   浙江拱东医疗器械股份有限公司     主板   \n",
       "3015   3904  605376.SH  605376  博迁新材   江苏      小金属    江苏博迁新材料股份有限公司     主板   \n",
       "3016   3905  605377.SH  605377  华旺科技   浙江       造纸  杭州华旺新材料科技股份有限公司     主板   \n",
       "3018   3907  605399.SH  605399  晨光新材   江西     化工原料    江西晨光新材料股份有限公司     主板   \n",
       "3019   3908  605500.SH  605500  森林包装   浙江       造纸     森林包装集团股份有限公司     主板   \n",
       "\n",
       "     exchange  list_date is_hs  \n",
       "2        SZSE   19910114     N  \n",
       "3        SZSE   19901210     N  \n",
       "6        SZSE   19920507     S  \n",
       "7        SZSE   19910625     S  \n",
       "12       SZSE   19920327     S  \n",
       "...       ...        ...   ...  \n",
       "3014      SSE   20200916     N  \n",
       "3015      SSE   20201208     N  \n",
       "3016      SSE   20201228     N  \n",
       "3018      SSE   20200804     N  \n",
       "3019      SSE   20201222     N  \n",
       "\n",
       "[1927 rows x 11 columns]"
      ]
     },
     "execution_count": 6,
     "metadata": {},
     "output_type": "execute_result"
    }
   ],
   "source": [
    "company_info"
   ]
  },
  {
   "cell_type": "code",
   "execution_count": 7,
   "metadata": {},
   "outputs": [],
   "source": [
    "def get_limit():\n",
    "    if os.path.exists('limit.csv'):\n",
    "        return pd.read_csv('limit.csv')\n",
    "    else:\n",
    "        df_all = []\n",
    "        for path in tqdm(os.listdir(os.path.join(base_path, 'DailyData2'))):\n",
    "            tmp_df = pd.read_csv(os.path.join(base_path, 'DailyData2', path))\n",
    "            tmp_df2 = pd.read_csv(os.path.join(base_path, 'LimitPrice', path))\n",
    "\n",
    "\n",
    "            tmp_df = tmp_df.merge(tmp_df2[['trade_date', 'up_limit', 'down_limit']], on=['trade_date'], how='left')\n",
    "\n",
    "            tmp_df['open_limit'] = tmp_df['open'] >= tmp_df['up_limit']\n",
    "            tmp_df['close_limit'] = tmp_df['close'] >= tmp_df['up_limit']\n",
    "            tmp_df['high_limit'] = tmp_df['high'] >= tmp_df['up_limit']\n",
    "\n",
    "            df_all.append(tmp_df)\n",
    "        df_all = pd.concat(df_all)\n",
    "        df_all = df_all.reset_index(drop=True)\n",
    "        df_all = df_all[['trade_date', 'ts_code', 'open', 'high', 'low', 'close', 'pre_close',\n",
    "                    'up_limit', 'down_limit', 'open_limit', 'close_limit', 'high_limit']]\n",
    "        df_all.to_csv('limit.csv', index=None)\n",
    "        limit_info = df_all.copy()\n",
    "    return limit_info\n",
    "limit_info = get_limit()"
   ]
  },
  {
   "cell_type": "code",
   "execution_count": 8,
   "metadata": {},
   "outputs": [],
   "source": [
    "def get_daily(update=True):\n",
    "    if os.path.exists('dailybasic.csv') and not update:\n",
    "        return pd.read_csv('dailybasic.csv')\n",
    "    else:    \n",
    "        df_all = []\n",
    "        for path in tqdm(os.listdir(os.path.join(base_path, 'DailyBasic'))):\n",
    "            tmp_df = pd.read_csv(os.path.join(base_path, 'DailyBasic', path))\n",
    "            tmp_df['turnover_rate_f_mean_5'] = tmp_df['turnover_rate_f'].rolling(5).mean()\n",
    "            tmp_df['turnover_rate_f_mean_10'] = tmp_df['turnover_rate_f'].rolling(10).mean()\n",
    "            df_all.append(tmp_df)\n",
    "        df_all = pd.concat(df_all)\n",
    "        df_all = df_all.reset_index(drop=True)\n",
    "        df_all = df_all[['ts_code', 'trade_date', 'turnover_rate_f', 'total_mv', 'pe', 'turnover_rate_f_mean_10']]\n",
    "        df_all.dropna(inplace=True)\n",
    "        df_all.to_csv('dailybasic.csv', index=None)\n",
    "        dailybasic = df_all.copy()\n",
    "        return dailybasic\n",
    "dailybasic = get_daily(update=False)"
   ]
  },
  {
   "cell_type": "code",
   "execution_count": 9,
   "metadata": {},
   "outputs": [],
   "source": [
    "index = pd.read_csv(os.path.join('E:\\stock\\IndexData', '000001.SH.csv'))\n",
    "index['amount_5'] = index['amount'].rolling(5).mean()\n",
    "index['close_5'] = index['close'].shift(5) / index['close'] - 1\n",
    "index['close_10'] = index['close'].shift(5) / index['close'] - 1\n",
    "index['close_rate'] = index['close'] / index['pre_close'] - 1"
   ]
  },
  {
   "cell_type": "code",
   "execution_count": 10,
   "metadata": {},
   "outputs": [
    {
     "name": "stderr",
     "output_type": "stream",
     "text": [
      "100%|██████████| 3017/3017 [00:22<00:00, 132.76it/s]\n"
     ]
    }
   ],
   "source": [
    "df_all = []\n",
    "for path in tqdm(os.listdir(os.path.join(base_path, 'DailyData'))):\n",
    "    tmp_df = pd.read_csv(os.path.join(base_path, 'DailyData', path))\n",
    "    tmp_df['close_shift_5'] = tmp_df['close'].shift(5)\n",
    "    tmp_df['close_shift_10'] = tmp_df['close'].shift(10)\n",
    "    tmp_df['close_shift_20'] = tmp_df['close'].shift(20)\n",
    "    tmp_df['amount_sum_5'] = tmp_df['amount'].rolling(5).mean()\n",
    "    tmp_df['close_t'] = tmp_df['close'] / tmp_df['pre_close'] - 1\n",
    "    df_all.append(tmp_df)\n",
    "df_all = pd.concat(df_all)\n",
    "df_all = df_all.reset_index(drop=True)\n",
    "df_all.dropna(inplace=True)"
   ]
  },
  {
   "cell_type": "code",
   "execution_count": 11,
   "metadata": {},
   "outputs": [],
   "source": [
    "df_all = df_all.merge(limit_info[['trade_date', 'ts_code', 'open_limit', 'close_limit', 'high_limit']], on=['trade_date', 'ts_code'],\n",
    "            how='left')\n",
    "\n",
    "df_all = df_all.merge(dailybasic, on=['trade_date', 'ts_code'], how='left')\n",
    "\n",
    "df_all['close_shift_5'] = df_all['close'] / df_all['close_shift_5'] - 1\n",
    "df_all['close_shift_10'] = df_all['close'] / df_all['close_shift_10'] - 1\n",
    "df_all['close_shift_20'] = df_all['close'] / df_all['close_shift_20'] - 1\n"
   ]
  },
  {
   "cell_type": "code",
   "execution_count": 12,
   "metadata": {},
   "outputs": [],
   "source": [
    "df_all = df_all.merge(index[['trade_date', 'amount_5', 'close_5', 'close_rate']], on=['trade_date'], how='left')\n",
    "df_all = df_all[df_all['ts_code'].isin(ts_code_set)]"
   ]
  },
  {
   "cell_type": "code",
   "execution_count": 13,
   "metadata": {},
   "outputs": [],
   "source": [
    "feature_col = [ 'turnover_rate_f_mean_10', 'turnover_rate_f', 'total_mv', 'pe', 'close_t',\n",
    "               'close_shift_5', 'close_shift_10', 'close_shift_20']"
   ]
  },
  {
   "cell_type": "code",
   "execution_count": 14,
   "metadata": {},
   "outputs": [],
   "source": [
    "for col in feature_col:\n",
    "    df_all['rank_'+col] = df_all.groupby('trade_date')[col].rank(ascending=False)\n"
   ]
  },
  {
   "cell_type": "code",
   "execution_count": 15,
   "metadata": {},
   "outputs": [],
   "source": [
    "df_all['final_score'] = df_all['rank_total_mv']*1 \n",
    "df_all['rank_final'] = df_all.groupby('trade_date')['final_score'].rank(ascending=True)"
   ]
  },
  {
   "cell_type": "code",
   "execution_count": 16,
   "metadata": {},
   "outputs": [],
   "source": [
    "tmp_df = df_all[(df_all['trade_date']>=20200101)]"
   ]
  },
  {
   "cell_type": "code",
   "execution_count": 17,
   "metadata": {},
   "outputs": [],
   "source": [
    "day_num = 1\n",
    "stock_num = tmp_df['ts_code'].nunique()\n",
    "price = np.zeros((tmp_df['trade_date'].nunique()+1, stock_num))\n",
    "ts_code_map = dict(zip(tmp_df['ts_code'].unique(), range(stock_num)))\n",
    "pos = np.zeros((tmp_df['trade_date'].nunique()+1, stock_num))\n",
    "factor = 'rank_' + 'final'\n",
    "top_num = 10\n",
    "\n",
    "for i, g in tmp_df.groupby('trade_date'):\n",
    "    ts_code = g['ts_code'].values\n",
    "    p = g['close'].values\n",
    "    close_limit = g['close_limit'].values\n",
    "    for j in range(len(ts_code)):\n",
    "        price[day_num, ts_code_map[ts_code[j]]] = p[j]\n",
    "    \n",
    "    g = g.sort_values(factor).reset_index(drop=True)#.loc[:top_num]\n",
    "    ts_code = g['ts_code'].values\n",
    "    limit = g['close_limit'].values\n",
    "    f1 = g['close_t'].values\n",
    "    f2 = g['close_shift_5'].values\n",
    "    tmp_num = 0\n",
    "    for j in range(len(g)):\n",
    "        if (pos[day_num-1, ts_code_map[ts_code[j]]] == 1 or limit[j] == False) and f1[j]>-0.05 and f2[j]>0:\n",
    "            pos[day_num, ts_code_map[ts_code[j]]] = 1\n",
    "            tmp_num += 1\n",
    "            \n",
    "        if tmp_num >= top_num:\n",
    "            break\n",
    "        \n",
    "    day_num += 1\n",
    "price[0, :] = price[1, :]\n",
    "turnover = np.abs(pos[1:, :] - pos[:-1, :])\n",
    "pnl = (price[1:, :] / price[:-1, :] - 1) * pos[:-1, :]\n",
    "netpnl = pnl - turnover * 0.0003"
   ]
  },
  {
   "cell_type": "code",
   "execution_count": null,
   "metadata": {},
   "outputs": [],
   "source": []
  },
  {
   "cell_type": "code",
   "execution_count": 18,
   "metadata": {},
   "outputs": [
    {
     "data": {
      "image/png": "[encoded data removed]",
      "text/plain": [
       "<Figure size 432x288 with 1 Axes>"
      ]
     },
     "metadata": {
      "needs_background": "light"
     },
     "output_type": "display_data"
    },
    {
     "name": "stdout",
     "output_type": "stream",
     "text": [
      "0.4729884420340499\n"
     ]
    },
    {
     "data": {
      "image/png": "[encoded data removed]",
      "text/plain": [
       "<Figure size 432x288 with 1 Axes>"
      ]
     },
     "metadata": {
      "needs_background": "light"
     },
     "output_type": "display_data"
    },
    {
     "name": "stdout",
     "output_type": "stream",
     "text": [
      "0.42786844203404983\n"
     ]
    }
   ],
   "source": [
    "arr = np.nansum(pnl, axis=1)\n",
    "plt.plot(np.cumsum(arr)/top_num)\n",
    "plt.show()\n",
    "print(np.sum(arr) / top_num)\n",
    "\n",
    "arr = np.nansum(netpnl, axis=1)\n",
    "plt.plot(np.cumsum(arr)/top_num)\n",
    "plt.show()\n",
    "print(np.sum(arr) / top_num)"
   ]
  },
  {
   "cell_type": "code",
   "execution_count": 19,
   "metadata": {},
   "outputs": [
    {
     "data": {
      "image/png": "[encoded data removed]",
      "text/plain": [
       "<Figure size 432x288 with 1 Axes>"
      ]
     },
     "metadata": {
      "needs_background": "light"
     },
     "output_type": "display_data"
    },
    {
     "name": "stdout",
     "output_type": "stream",
     "text": [
      "0.1282752469510342\n"
     ]
    }
   ],
   "source": [
    "arr = index[index['trade_date']>=20200101]['close_rate'].values\n",
    "plt.plot(np.cumsum(arr))\n",
    "plt.show()\n",
    "print(np.sum(arr))"
   ]
  },
  {
   "cell_type": "code",
   "execution_count": null,
   "metadata": {},
   "outputs": [],
   "source": []
  },
  {
   "cell_type": "code",
   "execution_count": null,
   "metadata": {},
   "outputs": [],
   "source": []
  }
 ],
 "metadata": {
  "kernelspec": {
   "display_name": "Python 3",
   "language": "python",
   "name": "python3"
  },
  "language_info": {
   "codemirror_mode": {
    "name": "ipython",
    "version": 3
   },
   "file_extension": ".py",
   "mimetype": "text/x-python",
   "name": "python",
   "nbconvert_exporter": "python",
   "pygments_lexer": "ipython3",
   "version": "3.6.7"
  }
 },
 "nbformat": 4,
 "nbformat_minor": 4
}
