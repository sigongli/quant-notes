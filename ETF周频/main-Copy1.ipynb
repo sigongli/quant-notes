{
 "cells": [
  {
   "cell_type": "code",
   "execution_count": 1,
   "metadata": {},
   "outputs": [],
   "source": [
    "import pandas as pd\n",
    "import numpy as np\n",
    "import os\n",
    "import datetime\n",
    "from tqdm import tqdm\n",
    "import matplotlib.pyplot as plt\n",
    "%matplotlib inline\n",
    "\n",
    "import warnings\n",
    "warnings.filterwarnings(\"ignore\")"
   ]
  },
  {
   "cell_type": "code",
   "execution_count": 2,
   "metadata": {},
   "outputs": [],
   "source": [
    "base_path = os.path.join('E:\\stock', 'ETF')\n",
    "base_path2 = os.path.join('E:\\stock', 'ETF_adj')\n",
    "# base_path = 'ETF'"
   ]
  },
  {
   "cell_type": "code",
   "execution_count": 3,
   "metadata": {},
   "outputs": [],
   "source": [
    "file = [ '创业板', '5GETF', '芯片ETF1', '纳指ETF', '沪深300ETF', '医药ETF', '计算机ETF', '银行ETF',\n",
    "         '证券ETF',  '新能源车ETF', '军工龙头ETF', '环保ETF', '消费ETF', '酒ETF', '中概互联ETF']\n",
    "# file = ['中小板', '上证50ETF', '中证500ETF', '上证180ETF', '创业板', '5GETF', '芯片ETF1',\n",
    "#          '沪深300ETF', '50ETF基金', 'H股ETF', '医药ETF', '计算机ETF', '芯片ETF2', '银行ETF',\n",
    "#          '证券ETF', '纳指ETF', '标普500ETF', '新能源车ETF', '军工龙头ETF', '环保ETF', '消费ETF', '酒ETF',\n",
    "#          '中概互联ETF']"
   ]
  },
  {
   "cell_type": "markdown",
   "metadata": {},
   "source": [
    "# 数据读取"
   ]
  },
  {
   "cell_type": "code",
   "execution_count": 4,
   "metadata": {},
   "outputs": [],
   "source": [
    "df_list = []\n",
    "names = []\n",
    "\n",
    "for path in file:\n",
    "    path += '.csv'\n",
    "    names.append(path.split('.')[0])\n",
    "    tmp_df = pd.read_csv(os.path.join(base_path, path))\n",
    "    adj = pd.read_csv(os.path.join(base_path2, path))\n",
    "    \n",
    "    tmp_df = tmp_df.merge(adj[['trade_date', 'adj_factor']], on='trade_date', how='left')\n",
    "    tmp_df['adj_factor'].fillna(method = 'bfill',inplace=True)\n",
    "    tmp_df['adj_factor'].fillna(method = 'ffill',inplace=True)\n",
    "    tmp_df['close_rate'] = tmp_df['close'] / tmp_df['pre_close'] - 1\n",
    "    tmp_df['close'] = tmp_df['close']* tmp_df['adj_factor'] / tmp_df['adj_factor'].values[-1]\n",
    "    tmp_df['pre_close'] = tmp_df['pre_close']* tmp_df['adj_factor'] / tmp_df['adj_factor'].values[-1]\n",
    "    tmp_df['open'] = tmp_df['open']* tmp_df['adj_factor'] / tmp_df['adj_factor'].values[-1]\n",
    "    df_list.append(tmp_df)\n",
    "\n",
    "df = pd.concat(df_list)\n",
    "df.dropna(inplace=True)"
   ]
  },
  {
   "cell_type": "markdown",
   "metadata": {},
   "source": [
    "下面把日期归到不同的周里面，方便后面周线数据处理"
   ]
  },
  {
   "cell_type": "code",
   "execution_count": 5,
   "metadata": {},
   "outputs": [],
   "source": [
    "days = []\n",
    "weeks = []\n",
    "now_time = datetime.datetime(2012, 1, 2)\n",
    "now_week = 0\n",
    "while True:\n",
    "    for i in range(5):\n",
    "        tmp_time = now_time + datetime.timedelta(days=i)\n",
    "        weeks.append(now_week)\n",
    "        tmp_day = tmp_time.year*10000 + tmp_time.month*100 + tmp_time.day\n",
    "        days.append(tmp_day)\n",
    "    now_time = now_time + datetime.timedelta(days=7)\n",
    "    now_week += 1\n",
    "    if now_time >= datetime.datetime.now():\n",
    "        break\n",
    "\n",
    "week_dict = dict(zip(days, weeks))\n",
    "df['week_id'] = df['trade_date'].map(week_dict)\n",
    "df.dropna(inplace=True)"
   ]
  },
  {
   "cell_type": "markdown",
   "metadata": {},
   "source": [
    "只需要每周的第一天数据和最后一天数据，中间不用管躺平即可"
   ]
  },
  {
   "cell_type": "code",
   "execution_count": 6,
   "metadata": {},
   "outputs": [],
   "source": [
    "tmp_df1 = df.drop_duplicates(['ts_code', 'week_id'], keep='first')\n",
    "tmp_df2 = df.drop_duplicates(['ts_code', 'week_id'], keep='last')\n",
    "tmp_df1 = tmp_df1[['ts_code', 'trade_date', 'open', 'week_id', 'pre_close']]\n",
    "tmp_df2 = tmp_df2[['ts_code', 'trade_date', 'close', 'week_id']]\n",
    "tmp_df1.columns = ['ts_code', 'trade_date1', 'open', 'week_id', 'pre_close']\n",
    "tmp_df2.columns = ['ts_code', 'trade_date2', 'close', 'week_id']\n",
    "tmp_df1 = tmp_df1.merge(tmp_df2, on = ['ts_code', 'week_id'], how='left')\n",
    "\n",
    "# 计算周涨幅，两种计算方式结果差不多\n",
    "tmp_df1['rate1'] = tmp_df1['close'] / tmp_df1['open'] - 1 \n",
    "tmp_df1['rate2'] = tmp_df1['close'] / tmp_df1['pre_close'] - 1"
   ]
  },
  {
   "cell_type": "code",
   "execution_count": 7,
   "metadata": {},
   "outputs": [],
   "source": [
    "tmp_df1['signal'] = tmp_df1.groupby(['ts_code'])['rate1'].shift(1)\n",
    "\n",
    "# 这边可以设置是每周尾盘买入或者每周开盘买入\n",
    "tmp_df1['buy_price'] = tmp_df1['open']\n",
    "tmp_df1['next_close'] = tmp_df1['close']\n",
    "tmp_df1.dropna(inplace=True)"
   ]
  },
  {
   "cell_type": "code",
   "execution_count": 8,
   "metadata": {},
   "outputs": [],
   "source": [
    "# 这边可以设置观察时间\n",
    "tmp_df1 = tmp_df1[tmp_df1['trade_date1'] > 20190101]"
   ]
  },
  {
   "cell_type": "code",
   "execution_count": 9,
   "metadata": {},
   "outputs": [
    {
     "name": "stderr",
     "output_type": "stream",
     "text": [
      "100%|██████████| 103/103 [00:00<00:00, 1307.27it/s]\n"
     ]
    }
   ],
   "source": [
    "init_money = 100000\n",
    "market_value = init_money\n",
    "left_money = init_money\n",
    "max_hold = 5\n",
    "service_rate = 0.0005 # 手续费\n",
    "\n",
    "values = [init_money]\n",
    "\n",
    "hold_num = dict(zip(df['ts_code'].unique(), np.zeros(df['ts_code'].nunique())))\n",
    "next_closes = dict(zip(df['ts_code'].unique(), np.zeros(df['ts_code'].nunique())))\n",
    "market_values_ = []\n",
    "k = 0\n",
    "\n",
    "flag = True\n",
    "for i,g in tqdm(tmp_df1.groupby('week_id')):\n",
    "    k+=1\n",
    "\n",
    "    g = g.reset_index(drop=True)\n",
    "    signal = g['signal'].values\n",
    "    \n",
    "    cangwei = np.zeros(len(signal))\n",
    "    max_cangwei = 1\n",
    "\n",
    "    idx = np.argsort(signal)[::-1]\n",
    "    for i in range(max_hold):\n",
    "        cangwei[idx[i]] = 1 / max_hold\n",
    "\n",
    "    nums = []\n",
    "    left_money = market_value\n",
    "    \n",
    "    for j in range(len(g)):\n",
    "        # -100 给手续费留一些空间\n",
    "        money = (market_value-100) * cangwei[j]\n",
    "        num = money / g['buy_price'][j] // 100\n",
    "        nums.append(num)\n",
    "        left_money = left_money - num * 100 * (g['buy_price'][j]) * (1 + service_rate)\n",
    "        hold_num[g['ts_code'][j]] = num\n",
    "        next_closes[g['ts_code'][j]] = g['next_close'][j]\n",
    "\n",
    "    # 计算市值\n",
    "    market_value = 0\n",
    "    for key in hold_num:\n",
    "        market_value = market_value + hold_num[key] * 100 * (next_closes[key]) * (1 - service_rate)\n",
    "        hold_num[key] = 0\n",
    "    market_value += left_money\n",
    "    market_values_.append(market_value)"
   ]
  },
  {
   "cell_type": "code",
   "execution_count": 10,
   "metadata": {},
   "outputs": [
    {
     "data": {
      "text/plain": [
       "189207.32985627942"
      ]
     },
     "execution_count": 10,
     "metadata": {},
     "output_type": "execute_result"
    }
   ],
   "source": [
    "market_value"
   ]
  },
  {
   "cell_type": "code",
   "execution_count": 11,
   "metadata": {},
   "outputs": [
    {
     "data": {
      "image/png": "[encoded data removed]",
      "text/plain": [
       "<Figure size 432x288 with 1 Axes>"
      ]
     },
     "metadata": {
      "needs_background": "light"
     },
     "output_type": "display_data"
    }
   ],
   "source": [
    "plt.figure()\n",
    "plt.plot(market_values_)\n",
    "plt.show()"
   ]
  }
 ],
 "metadata": {
  "kernelspec": {
   "display_name": "Python 3",
   "language": "python",
   "name": "python3"
  },
  "language_info": {
   "codemirror_mode": {
    "name": "ipython",
    "version": 3
   },
   "file_extension": ".py",
   "mimetype": "text/x-python",
   "name": "python",
   "nbconvert_exporter": "python",
   "pygments_lexer": "ipython3",
   "version": "3.6.7"
  }
 },
 "nbformat": 4,
 "nbformat_minor": 2
}
